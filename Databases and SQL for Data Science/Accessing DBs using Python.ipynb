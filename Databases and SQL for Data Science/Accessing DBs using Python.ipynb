{
 "cells": [
  {
   "cell_type": "markdown",
   "metadata": {},
   "source": [
    "Concepts of the Python DB API\n",
    "\n",
    "Connection Objects: \n",
    "- Database connections\n",
    "- Manage transactions\n",
    "\n",
    "Cursor Objects: \n",
    "- Database queries"
   ]
  },
  {
   "cell_type": "code",
   "execution_count": 2,
   "metadata": {},
   "outputs": [
    {
     "name": "stdout",
     "output_type": "stream",
     "text": [
      "Connected to MySQL version  8.0.20\n",
      "You're connected to database:  ('hr',)\n",
      "\n",
      "\n",
      "[('E1001', 'John', 'Thomas', '123456', datetime.date(1976, 1, 9), 'M', '5631 Rice, OakPark,IL', '100', Decimal('100000.00'), '30001', '2\\r'), ('E1002', 'Alice', 'James', '123457', datetime.date(1972, 7, 31), 'F', '980 Berry ln, Elgin,IL', '200', Decimal('80000.00'), '30002', '5\\r'), ('E1003', 'Steve', 'Wells', '123458', datetime.date(1980, 8, 10), 'M', '291 Springs, Gary,IL', '300', Decimal('50000.00'), '30002', '5\\r'), ('E1004', 'Santosh', 'Kumar', '123459', datetime.date(1985, 7, 20), 'M', '511 Aurora Av, Aurora,IL', '400', Decimal('60000.00'), '30004', '5\\r'), ('E1005', 'Ahmed', 'Hussain', '123410', datetime.date(1981, 1, 4), 'M', '216 Oak Tree, Geneva,IL', '500', Decimal('70000.00'), '30001', '2\\r'), ('E1006', 'Nancy', 'Allen', '123411', datetime.date(1978, 2, 6), 'F', '111 Green Pl, Elgin,IL', '600', Decimal('90000.00'), '30001', '2\\r'), ('E1007', 'Mary', 'Thomas', '123412', datetime.date(1975, 5, 5), 'F', '100 Rose Pl, Gary,IL', '650', Decimal('65000.00'), '30003', '7\\r'), ('E1008', 'Bharath', 'Gupta', '123413', datetime.date(1985, 5, 6), 'M', '145 Berry Ln, Naperville,IL', '660', Decimal('65000.00'), '30003', '7\\r'), ('E1009', 'Andrea', 'Jones', '123414', datetime.date(1990, 7, 9), 'F', '120 Fall Creek, Gary,IL', '234', Decimal('70000.00'), '30003', '7\\r'), ('E1010', 'Ann', 'Jacob', '123415', datetime.date(1982, 3, 30), 'F', '111 Britany Springs,Elgin,IL', '220', Decimal('70000.00'), '30004', '5\\r')]\n",
      "\n",
      "\n",
      "MySQL connection is closed\n"
     ]
    }
   ],
   "source": [
    "# Module For Connecting To MySQL database \n",
    "import mysql.connector\n",
    "  \n",
    "def connect():\n",
    "    #Connect to MySQL db\n",
    "    connection = None\n",
    "    try:\n",
    "        connection = mysql.connector.connect(host='localhost', database='HR', user='root', password='your_password_here')\n",
    "        cursor = connection.cursor()\n",
    "        if connection.is_connected():\n",
    "            db_Info = connection.get_server_info()\n",
    "            print(\"Connected to MySQL version \", db_Info)\n",
    "            \n",
    "            cursor.execute(\"select database();\")\n",
    "            record = cursor.fetchone()\n",
    "            print(\"You're connected to database: \", record)\n",
    "            print('\\n')\n",
    "            \n",
    "            # Executing Query \n",
    "            \n",
    "            cursor.execute('SELECT * FROM EMPLOYEES;')\n",
    "            result = cursor.fetchall()\n",
    "            print(result)\n",
    "            print('\\n')\n",
    "                       \n",
    "            #cursor.execute('CREATE TABLE Book(isbn VARCHAR(15) NOT NULL, title VARCHAR(25), PRIMARY KEY (isbn));')\n",
    "            #result = cursor.fetchall()\n",
    "            \n",
    "            #cursor.execute('INSERT INTO Book(isbn, title) VALUES (\"The Hobbit\", \"9780439344471\")')\n",
    "            #result = cursor.fetchall()\n",
    "                        \n",
    "            #cursor.execute('SELECT * FROM Book')\n",
    "            #result = cursor.fetchall()\n",
    "            #print(result)\n",
    "            \n",
    "    except Error as error:\n",
    "        print(error)\n",
    "        \n",
    "    finally:\n",
    "        if connection is not None and connection.is_connected():\n",
    "            cursor.close()\n",
    "            connection.close()\n",
    "            print(\"MySQL connection is closed\")\n",
    "    \n",
    "#Db connection \n",
    "db_connection = connect() "
   ]
  },
  {
   "cell_type": "code",
   "execution_count": 5,
   "metadata": {},
   "outputs": [
    {
     "data": {
      "text/html": [
       "<div>\n",
       "<style scoped>\n",
       "    .dataframe tbody tr th:only-of-type {\n",
       "        vertical-align: middle;\n",
       "    }\n",
       "\n",
       "    .dataframe tbody tr th {\n",
       "        vertical-align: top;\n",
       "    }\n",
       "\n",
       "    .dataframe thead th {\n",
       "        text-align: right;\n",
       "    }\n",
       "</style>\n",
       "<table border=\"1\" class=\"dataframe\">\n",
       "  <thead>\n",
       "    <tr style=\"text-align: right;\">\n",
       "      <th></th>\n",
       "      <th>DEPT_ID_DEP</th>\n",
       "      <th>DEP_NAME</th>\n",
       "      <th>MANAGER_ID</th>\n",
       "      <th>LOC_ID</th>\n",
       "    </tr>\n",
       "  </thead>\n",
       "  <tbody>\n",
       "    <tr>\n",
       "      <th>0</th>\n",
       "      <td>2</td>\n",
       "      <td>Architect Group</td>\n",
       "      <td>30001</td>\n",
       "      <td>L0001\\r</td>\n",
       "    </tr>\n",
       "    <tr>\n",
       "      <th>1</th>\n",
       "      <td>5</td>\n",
       "      <td>Software Group</td>\n",
       "      <td>30002</td>\n",
       "      <td>L0002\\r</td>\n",
       "    </tr>\n",
       "    <tr>\n",
       "      <th>2</th>\n",
       "      <td>7</td>\n",
       "      <td>Design Team</td>\n",
       "      <td>30003</td>\n",
       "      <td>L0003\\r</td>\n",
       "    </tr>\n",
       "    <tr>\n",
       "      <th>3</th>\n",
       "      <td>5</td>\n",
       "      <td>Software Group</td>\n",
       "      <td>30004</td>\n",
       "      <td>L0004\\r</td>\n",
       "    </tr>\n",
       "  </tbody>\n",
       "</table>\n",
       "</div>"
      ],
      "text/plain": [
       "  DEPT_ID_DEP         DEP_NAME MANAGER_ID   LOC_ID\n",
       "0           2  Architect Group      30001  L0001\\r\n",
       "1           5   Software Group      30002  L0002\\r\n",
       "2           7      Design Team      30003  L0003\\r\n",
       "3           5   Software Group      30004  L0004\\r"
      ]
     },
     "execution_count": 5,
     "metadata": {},
     "output_type": "execute_result"
    }
   ],
   "source": [
    "import pandas as pd\n",
    "\n",
    "connection = mysql.connector.connect(host='localhost', database='HR', user='root', password='your_password_here')\n",
    "df = pd.read_sql('SELECT * FROM DEPARTMENTS', connection)\n",
    "df.head()"
   ]
  },
  {
   "cell_type": "code",
   "execution_count": 13,
   "metadata": {},
   "outputs": [
    {
     "data": {
      "text/html": [
       "<div>\n",
       "<style scoped>\n",
       "    .dataframe tbody tr th:only-of-type {\n",
       "        vertical-align: middle;\n",
       "    }\n",
       "\n",
       "    .dataframe tbody tr th {\n",
       "        vertical-align: top;\n",
       "    }\n",
       "\n",
       "    .dataframe thead th {\n",
       "        text-align: right;\n",
       "    }\n",
       "</style>\n",
       "<table border=\"1\" class=\"dataframe\">\n",
       "  <thead>\n",
       "    <tr style=\"text-align: right;\">\n",
       "      <th></th>\n",
       "      <th>DEPT_ID_DEP</th>\n",
       "      <th>DEP_NAME</th>\n",
       "      <th>MANAGER_ID</th>\n",
       "      <th>LOC_ID</th>\n",
       "    </tr>\n",
       "  </thead>\n",
       "  <tbody>\n",
       "    <tr>\n",
       "      <th>count</th>\n",
       "      <td>4</td>\n",
       "      <td>4</td>\n",
       "      <td>4</td>\n",
       "      <td>4</td>\n",
       "    </tr>\n",
       "    <tr>\n",
       "      <th>unique</th>\n",
       "      <td>3</td>\n",
       "      <td>3</td>\n",
       "      <td>4</td>\n",
       "      <td>4</td>\n",
       "    </tr>\n",
       "    <tr>\n",
       "      <th>top</th>\n",
       "      <td>5</td>\n",
       "      <td>Software Group</td>\n",
       "      <td>30004</td>\n",
       "      <td>L0002\\r</td>\n",
       "    </tr>\n",
       "    <tr>\n",
       "      <th>freq</th>\n",
       "      <td>2</td>\n",
       "      <td>2</td>\n",
       "      <td>1</td>\n",
       "      <td>1</td>\n",
       "    </tr>\n",
       "  </tbody>\n",
       "</table>\n",
       "</div>"
      ],
      "text/plain": [
       "       DEPT_ID_DEP        DEP_NAME MANAGER_ID   LOC_ID\n",
       "count            4               4          4        4\n",
       "unique           3               3          4        4\n",
       "top              5  Software Group      30004  L0002\\r\n",
       "freq             2               2          1        1"
      ]
     },
     "execution_count": 13,
     "metadata": {},
     "output_type": "execute_result"
    }
   ],
   "source": [
    "df.describe()"
   ]
  },
  {
   "cell_type": "code",
   "execution_count": 14,
   "metadata": {},
   "outputs": [
    {
     "data": {
      "text/plain": [
       "(4, 4)"
      ]
     },
     "execution_count": 14,
     "metadata": {},
     "output_type": "execute_result"
    }
   ],
   "source": [
    "df.shape"
   ]
  },
  {
   "cell_type": "code",
   "execution_count": 15,
   "metadata": {},
   "outputs": [],
   "source": [
    "connection.close()"
   ]
  }
 ],
 "metadata": {
  "kernelspec": {
   "display_name": "Python 3",
   "language": "python",
   "name": "python3"
  },
  "language_info": {
   "codemirror_mode": {
    "name": "ipython",
    "version": 3
   },
   "file_extension": ".py",
   "mimetype": "text/x-python",
   "name": "python",
   "nbconvert_exporter": "python",
   "pygments_lexer": "ipython3",
   "version": "3.7.6"
  }
 },
 "nbformat": 4,
 "nbformat_minor": 4
}
